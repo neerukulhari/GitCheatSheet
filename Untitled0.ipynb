{
  "nbformat": 4,
  "nbformat_minor": 0,
  "metadata": {
    "colab": {
      "provenance": [],
      "authorship_tag": "ABX9TyOaU7FqdI6pYaB8byA8+ETS",
      "include_colab_link": true
    },
    "kernelspec": {
      "name": "python3",
      "display_name": "Python 3"
    },
    "language_info": {
      "name": "python"
    },
    "accelerator": "GPU",
    "gpuClass": "standard"
  },
  "cells": [
    {
      "cell_type": "markdown",
      "metadata": {
        "id": "view-in-github",
        "colab_type": "text"
      },
      "source": [
        "<a href=\"https://colab.research.google.com/github/neerukulhari/GitCheatSheet/blob/master/Untitled0.ipynb\" target=\"_parent\"><img src=\"https://colab.research.google.com/assets/colab-badge.svg\" alt=\"Open In Colab\"/></a>"
      ]
    },
    {
      "cell_type": "code",
      "execution_count": 2,
      "metadata": {
        "id": "eRqboYu52oj9"
      },
      "outputs": [],
      "source": [
        "import torch"
      ]
    },
    {
      "cell_type": "code",
      "source": [
        "import os\n",
        "\n",
        "N=1000\n",
        "P=100\n",
        "X=torch.rand(N,P)\n",
        "M=torch.rand(P,1)\n",
        "\n",
        "y=X@M+torch.normal(torch.zeros(N,1),torch.ones(N,1))\n",
        "\n",
        "if not os.path.exists(\"./data\"):\n",
        "    os.makedirs(\"./data\")\n",
        "\n",
        "torch.save(X, \"./data/X_reg.pt\")\n",
        "torch.save(y, \"./data/y_reg.pt\")"
      ],
      "metadata": {
        "id": "jYpZmhXe2zg1"
      },
      "execution_count": 4,
      "outputs": []
    },
    {
      "cell_type": "code",
      "source": [
        "X=torch.cat([X, torch.ones(N,1)], dim=1)"
      ],
      "metadata": {
        "id": "eZp24vvq2zeF"
      },
      "execution_count": 5,
      "outputs": []
    },
    {
      "cell_type": "code",
      "source": [],
      "metadata": {
        "id": "6O_YeXUG2zbk"
      },
      "execution_count": null,
      "outputs": []
    },
    {
      "cell_type": "code",
      "source": [],
      "metadata": {
        "id": "ynSBk58G2zY_"
      },
      "execution_count": null,
      "outputs": []
    },
    {
      "cell_type": "code",
      "source": [],
      "metadata": {
        "id": "p-L_K2Bd2zWv"
      },
      "execution_count": null,
      "outputs": []
    },
    {
      "cell_type": "code",
      "source": [],
      "metadata": {
        "id": "MHEfdP1J2zK2"
      },
      "execution_count": null,
      "outputs": []
    }
  ]
}